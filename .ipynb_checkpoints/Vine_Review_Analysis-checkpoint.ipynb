{
 "cells": [
  {
   "cell_type": "code",
   "execution_count": 1,
   "id": "5719fa18",
   "metadata": {},
   "outputs": [],
   "source": [
    "import pandas as pd"
   ]
  },
  {
   "cell_type": "code",
   "execution_count": 3,
   "id": "5afb6514",
   "metadata": {},
   "outputs": [
    {
     "name": "stderr",
     "output_type": "stream",
     "text": [
      "C:\\Users\\omaro\\anaconda3\\lib\\site-packages\\IPython\\core\\interactiveshell.py:3444: DtypeWarning: Columns (1) have mixed types.Specify dtype option on import or set low_memory=False.\n",
      "  exec(code_obj, self.user_global_ns, self.user_ns)\n"
     ]
    },
    {
     "data": {
      "text/html": [
       "<div>\n",
       "<style scoped>\n",
       "    .dataframe tbody tr th:only-of-type {\n",
       "        vertical-align: middle;\n",
       "    }\n",
       "\n",
       "    .dataframe tbody tr th {\n",
       "        vertical-align: top;\n",
       "    }\n",
       "\n",
       "    .dataframe thead th {\n",
       "        text-align: right;\n",
       "    }\n",
       "</style>\n",
       "<table border=\"1\" class=\"dataframe\">\n",
       "  <thead>\n",
       "    <tr style=\"text-align: right;\">\n",
       "      <th></th>\n",
       "      <th>review_id</th>\n",
       "      <th>star_rating</th>\n",
       "      <th>helpful_votes</th>\n",
       "      <th>total_votes</th>\n",
       "      <th>vine</th>\n",
       "      <th>verified_purchase</th>\n",
       "    </tr>\n",
       "  </thead>\n",
       "  <tbody>\n",
       "    <tr>\n",
       "      <th>0</th>\n",
       "      <td>R3W4P9UBGNGH1U</td>\n",
       "      <td>2</td>\n",
       "      <td>1.0</td>\n",
       "      <td>3.0</td>\n",
       "      <td>N</td>\n",
       "      <td>Y</td>\n",
       "    </tr>\n",
       "    <tr>\n",
       "      <th>1</th>\n",
       "      <td>R15V54KBMTQWAY</td>\n",
       "      <td>4</td>\n",
       "      <td>0.0</td>\n",
       "      <td>0.0</td>\n",
       "      <td>N</td>\n",
       "      <td>N</td>\n",
       "    </tr>\n",
       "    <tr>\n",
       "      <th>2</th>\n",
       "      <td>RY8I449HNXSVF</td>\n",
       "      <td>5</td>\n",
       "      <td>0.0</td>\n",
       "      <td>0.0</td>\n",
       "      <td>N</td>\n",
       "      <td>Y</td>\n",
       "    </tr>\n",
       "    <tr>\n",
       "      <th>3</th>\n",
       "      <td>R18TLJYCKJFLSR</td>\n",
       "      <td>5</td>\n",
       "      <td>0.0</td>\n",
       "      <td>0.0</td>\n",
       "      <td>N</td>\n",
       "      <td>Y</td>\n",
       "    </tr>\n",
       "    <tr>\n",
       "      <th>4</th>\n",
       "      <td>R1NK26SWS53B8Q</td>\n",
       "      <td>5</td>\n",
       "      <td>0.0</td>\n",
       "      <td>0.0</td>\n",
       "      <td>N</td>\n",
       "      <td>Y</td>\n",
       "    </tr>\n",
       "  </tbody>\n",
       "</table>\n",
       "</div>"
      ],
      "text/plain": [
       "        review_id star_rating  helpful_votes  total_votes vine  \\\n",
       "0  R3W4P9UBGNGH1U           2            1.0          3.0    N   \n",
       "1  R15V54KBMTQWAY           4            0.0          0.0    N   \n",
       "2   RY8I449HNXSVF           5            0.0          0.0    N   \n",
       "3  R18TLJYCKJFLSR           5            0.0          0.0    N   \n",
       "4  R1NK26SWS53B8Q           5            0.0          0.0    N   \n",
       "\n",
       "  verified_purchase  \n",
       "0                 Y  \n",
       "1                 N  \n",
       "2                 Y  \n",
       "3                 Y  \n",
       "4                 Y  "
      ]
     },
     "execution_count": 3,
     "metadata": {},
     "output_type": "execute_result"
    }
   ],
   "source": [
    "file_to_load = \"Resources/vine_table.csv\"\n",
    "\n",
    "vine_table = pd.read_csv(file_to_load)\n",
    "vine_table.head()"
   ]
  },
  {
   "cell_type": "code",
   "execution_count": 10,
   "id": "7f7aaa06",
   "metadata": {},
   "outputs": [
    {
     "ename": "SyntaxError",
     "evalue": "invalid syntax (Temp/ipykernel_16368/650986870.py, line 4)",
     "output_type": "error",
     "traceback": [
      "\u001b[1;36m  File \u001b[1;32m\"C:\\Users\\omaro\\AppData\\Local\\Temp/ipykernel_16368/650986870.py\"\u001b[1;36m, line \u001b[1;32m4\u001b[0m\n\u001b[1;33m    new_vine_table = vine_table[\"total_votes\"]count >= 20\u001b[0m\n\u001b[1;37m                                              ^\u001b[0m\n\u001b[1;31mSyntaxError\u001b[0m\u001b[1;31m:\u001b[0m invalid syntax\n"
     ]
    }
   ],
   "source": [
    "#Filter the data and create a new DataFrame or table to retrieve all the rows where the total_votes count is equal to or \n",
    "#greater than 20 to pick reviews that are more likely to be helpful and to avoid having division by zero errors later on.\n",
    "\n",
    "total_votes_df = vine_table[\"total_votes\"]count >= 20\n",
    "total_votes_df"
   ]
  },
  {
   "cell_type": "code",
   "execution_count": null,
   "id": "5e118f95",
   "metadata": {},
   "outputs": [],
   "source": [
    "#Filter the new DataFrame or table created in Step 1 and create a new DataFrame or table to retrieve #\n",
    "#all the rows where the number of helpful_votes divided by total_votes is equal to or greater than 50%.\n",
    "\n",
    "helpful_votes_df = vine_table['helpful_votes'] / total_votes_df >= 50%\n",
    "helpful_votes_df "
   ]
  },
  {
   "cell_type": "code",
   "execution_count": null,
   "id": "e3e61988",
   "metadata": {},
   "outputs": [],
   "source": [
    "#Filter the DataFrame or table created in Step 2, and create a new DataFrame or table that retrieves \n",
    "#all the rows where a review was written as part of the Vine program (paid), vine == 'Y'.\n",
    "\n",
    "\n"
   ]
  },
  {
   "cell_type": "code",
   "execution_count": null,
   "id": "bb8996b0",
   "metadata": {},
   "outputs": [],
   "source": [
    "#Repeat Step 3, but this time retrieve all the rows where the review was not part of the Vine program (unpaid), vine == 'N'.\n",
    "\n",
    "\n",
    "\n"
   ]
  },
  {
   "cell_type": "code",
   "execution_count": null,
   "id": "fcec7f86",
   "metadata": {},
   "outputs": [],
   "source": [
    "#Determine the total number of reviews, the number of 5-star reviews, \n",
    "#and the percentage of 5-star reviews for the two types of review (paid vs unpaid).\n",
    "\n",
    "\n"
   ]
  },
  {
   "cell_type": "code",
   "execution_count": null,
   "id": "f95e9b3c",
   "metadata": {},
   "outputs": [],
   "source": []
  }
 ],
 "metadata": {
  "kernelspec": {
   "display_name": "PythonData",
   "language": "python",
   "name": "pythondata"
  },
  "language_info": {
   "codemirror_mode": {
    "name": "ipython",
    "version": 3
   },
   "file_extension": ".py",
   "mimetype": "text/x-python",
   "name": "python",
   "nbconvert_exporter": "python",
   "pygments_lexer": "ipython3",
   "version": "3.9.7"
  }
 },
 "nbformat": 4,
 "nbformat_minor": 5
}
